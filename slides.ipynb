{
 "cells": [
  {
   "cell_type": "code",
   "execution_count": 1,
   "metadata": {
    "collapsed": false,
    "slideshow": {
     "slide_type": "slide"
    }
   },
   "outputs": [
    {
     "name": "stderr",
     "output_type": "stream",
     "text": [
      "Using TensorFlow backend.\n"
     ]
    }
   ],
   "source": [
    "import os\n",
    "import bqplot as bq\n",
    "from bqplot import *\n",
    "import tensorflow as tf\n",
    "from tensorflow.examples.tutorials.mnist import input_data\n",
    "from keras.models import Model\n",
    "from keras.layers import Dense, Input\n",
    "from IPython.display import display"
   ]
  },
  {
   "cell_type": "code",
   "execution_count": 2,
   "metadata": {
    "collapsed": false,
    "slideshow": {
     "slide_type": "subslide"
    }
   },
   "outputs": [
    {
     "name": "stdout",
     "output_type": "stream",
     "text": [
      "Extracting /tmp/data/train-images-idx3-ubyte.gz\n",
      "Extracting /tmp/data/train-labels-idx1-ubyte.gz\n",
      "Extracting /tmp/data/t10k-images-idx3-ubyte.gz\n",
      "Extracting /tmp/data/t10k-labels-idx1-ubyte.gz\n"
     ]
    }
   ],
   "source": [
    "mnist = input_data.read_data_sets(\"/tmp/data/\", one_hot=False)"
   ]
  },
  {
   "cell_type": "code",
   "execution_count": 3,
   "metadata": {
    "collapsed": false,
    "slideshow": {
     "slide_type": "slide"
    }
   },
   "outputs": [],
   "source": [
    "# Visualize encoder setting\n",
    "# Parameters\n",
    "learning_rate = 0.01    # 0.01 this learning rate will be better! Tested\n",
    "training_epochs = 50\n",
    "batch_size = 256\n",
    "display_step = 1\n",
    "# Network Parameters\n",
    "n_input = 784  # MNIST data input (img shape: 28*28)\n",
    "# tf Graph input (only pictures)\n",
    "X = tf.placeholder(\"float\", [None, n_input])\n",
    "# hidden layer settings\n",
    "n_hidden_1 = 128\n",
    "n_hidden_2 = 64\n",
    "n_hidden_3 = 10\n",
    "n_hidden_4 = 2\n",
    "weights = {\n",
    "    'encoder_h1': tf.Variable(tf.truncated_normal([n_input, n_hidden_1],)),\n",
    "    'encoder_h2': tf.Variable(tf.truncated_normal([n_hidden_1, n_hidden_2],)),\n",
    "    'encoder_h3': tf.Variable(tf.truncated_normal([n_hidden_2, n_hidden_3],)),\n",
    "    'encoder_h4': tf.Variable(tf.truncated_normal([n_hidden_3, n_hidden_4],)),\n",
    "    'decoder_h1': tf.Variable(tf.truncated_normal([n_hidden_4, n_hidden_3],)),\n",
    "    'decoder_h2': tf.Variable(tf.truncated_normal([n_hidden_3, n_hidden_2],)),\n",
    "    'decoder_h3': tf.Variable(tf.truncated_normal([n_hidden_2, n_hidden_1],)),\n",
    "    'decoder_h4': tf.Variable(tf.truncated_normal([n_hidden_1, n_input],)),\n",
    "}\n",
    "biases = {\n",
    "    'encoder_b1': tf.Variable(tf.random_normal([n_hidden_1])),\n",
    "    'encoder_b2': tf.Variable(tf.random_normal([n_hidden_2])),\n",
    "    'encoder_b3': tf.Variable(tf.random_normal([n_hidden_3])),\n",
    "    'encoder_b4': tf.Variable(tf.random_normal([n_hidden_4])),\n",
    "    'decoder_b1': tf.Variable(tf.random_normal([n_hidden_3])),\n",
    "    'decoder_b2': tf.Variable(tf.random_normal([n_hidden_2])),\n",
    "    'decoder_b3': tf.Variable(tf.random_normal([n_hidden_1])),\n",
    "    'decoder_b4': tf.Variable(tf.random_normal([n_input])),\n",
    "}\n",
    "def encoder(x):\n",
    "    layer_1 = tf.nn.sigmoid(tf.add(tf.matmul(x, weights['encoder_h1']),\n",
    "                                   biases['encoder_b1']))\n",
    "    layer_2 = tf.nn.sigmoid(tf.add(tf.matmul(layer_1, weights['encoder_h2']),\n",
    "                                   biases['encoder_b2']))\n",
    "    layer_3 = tf.nn.sigmoid(tf.add(tf.matmul(layer_2, weights['encoder_h3']),\n",
    "                                   biases['encoder_b3']))\n",
    "    layer_4 = tf.add(tf.matmul(layer_3, weights['encoder_h4']),\n",
    "                                    biases['encoder_b4'])\n",
    "    return layer_4\n",
    "def decoder(x):\n",
    "    layer_1 = tf.nn.sigmoid(tf.add(tf.matmul(x, weights['decoder_h1']),\n",
    "                                   biases['decoder_b1']))\n",
    "    layer_2 = tf.nn.sigmoid(tf.add(tf.matmul(layer_1, weights['decoder_h2']),\n",
    "                                   biases['decoder_b2']))\n",
    "    layer_3 = tf.nn.sigmoid(tf.add(tf.matmul(layer_2, weights['decoder_h3']),\n",
    "                                biases['decoder_b3']))\n",
    "    layer_4 = tf.nn.sigmoid(tf.add(tf.matmul(layer_3, weights['decoder_h4']),\n",
    "                                biases['decoder_b4']))\n",
    "    return layer_4\n",
    "\n"
   ]
  },
  {
   "cell_type": "code",
   "execution_count": 4,
   "metadata": {
    "collapsed": true,
    "slideshow": {
     "slide_type": "subslide"
    }
   },
   "outputs": [],
   "source": [
    "# Construct model\n",
    "encoder_op = encoder(X)\n",
    "decoder_op = decoder(encoder_op)\n",
    "\n",
    "# Prediction\n",
    "y_pred = decoder_op\n",
    "# Targets (Labels) are the input data.\n",
    "y_true = X\n",
    "\n",
    "# Define loss and optimizer, minimize the squared error\n",
    "cost = tf.reduce_mean(tf.pow(y_true - y_pred, 2))\n",
    "optimizer = tf.train.AdamOptimizer(learning_rate).minimize(cost)"
   ]
  },
  {
   "cell_type": "code",
   "execution_count": 6,
   "metadata": {
    "collapsed": false,
    "slideshow": {
     "slide_type": "slide"
    }
   },
   "outputs": [],
   "source": [
    "show_scatter_vol = 2000\n",
    "# Launch the graph\n",
    "with tf.Session() as sess:\n",
    "    # tf.initialize_all_variables() no long valid from\n",
    "    # 2017-03-02 if using tensorflow >= 0.12\n",
    "    if int((tf.__version__).split('.')[1]) < 12 and int((tf.__version__).split('.')[0]) < 1:\n",
    "        init = tf.initialize_all_variables()\n",
    "    else:\n",
    "        init = tf.global_variables_initializer()\n",
    "    sess.run(init)\n",
    "    encoder_result = sess.run(encoder_op, feed_dict={X: mnist.test.images[:show_scatter_vol]})\n",
    "    \n",
    "    sc_x = LinearScale()\n",
    "    sc_y = LinearScale()\n",
    "\n",
    "    sc_c1 = ColorScale()\n",
    "    scatter = Scatter(x=encoder_result[:show_scatter_vol, 0], y=encoder_result[:show_scatter_vol, 1], \n",
    "                      color=mnist.test.labels[:show_scatter_vol],\n",
    "                      scales={'x': sc_x, 'y': sc_y, 'color': sc_c1}, \n",
    "                      stroke='black')\n",
    "\n",
    "    ax_y = Axis(label='Dim 1', scale=sc_y, \n",
    "                orientation='vertical', side='left')\n",
    "\n",
    "    ax_x = Axis(label='Dim 2', scale=sc_x, num_ticks=10, label_location='end')\n",
    "    ax_c = ColorAxis(scale=sc_c1, tick_format='0.0f', label='Numbers', orientation='vertical', side='right')\n",
    "\n",
    "    m_chart = dict(top=50, bottom=70, left=50, right=100)\n",
    "\n",
    "    fg = Figure(axes=[ax_x, ax_c, ax_y], marks=[scatter], fig_margin=m_chart, animation_duration=1000,\n",
    "           title='AutoEncoder')\n",
    "    display(fg)\n",
    "    \n",
    "    total_batch = int(mnist.train.num_examples/batch_size)\n",
    "    for epoch in range(training_epochs):\n",
    "        # Loop over all batches\n",
    "        for i in range(total_batch):\n",
    "            batch_xs, batch_ys = mnist.train.next_batch(batch_size)  # max(x) = 1, min(x) = 0\n",
    "            # Run optimization op (backprop) and cost op (to get loss value)\n",
    "            _, c = sess.run([optimizer, cost], feed_dict={X: batch_xs})\n",
    "    \n",
    "        if epoch % display_step == 0:\n",
    "            encoder_result = sess.run(encoder_op, feed_dict={X: mnist.test.images[:show_scatter_vol]})\n",
    "            scatter.x = encoder_result[:show_scatter_vol, 0]\n",
    "            scatter.y = encoder_result[:show_scatter_vol, 1]\n",
    "            scatter.color = mnist.test.labels[:show_scatter_vol]\n",
    "            fg.title = \"Auto Encoder, Epoch: %04d, cost=%f\" % (epoch+1, c)"
   ]
  },
  {
   "cell_type": "code",
   "execution_count": null,
   "metadata": {
    "collapsed": true
   },
   "outputs": [],
   "source": []
  },
  {
   "cell_type": "code",
   "execution_count": null,
   "metadata": {
    "collapsed": true
   },
   "outputs": [],
   "source": []
  },
  {
   "cell_type": "code",
   "execution_count": 11,
   "metadata": {
    "collapsed": false,
    "slideshow": {
     "slide_type": "-"
    }
   },
   "outputs": [
    {
     "name": "stdout",
     "output_type": "stream",
     "text": [
      "Downloading data from https://s3.amazonaws.com/img-datasets/mnist.npz\n",
      "(60000, 784)\n",
      "(10000, 784)\n"
     ]
    }
   ],
   "source": [
    "(x_train, _), (x_test, y_test) = mnist.load_data()\n",
    "# pre-processing\n",
    "x_train = x_train.astype('float32') / 255. - 0.5       \n",
    "x_test = x_test.astype('float32') / 255. - 0.5         \n",
    "x_train = x_train.reshape((x_train.shape[0], -1))\n",
    "x_test = x_test.reshape((x_test.shape[0], -1))\n",
    "print(x_train.shape)\n",
    "print(x_test.shape)"
   ]
  },
  {
   "cell_type": "code",
   "execution_count": 15,
   "metadata": {
    "collapsed": false,
    "slideshow": {
     "slide_type": "-"
    }
   },
   "outputs": [
    {
     "name": "stdout",
     "output_type": "stream",
     "text": [
      "_________________________________________________________________\n",
      "Layer (type)                 Output Shape              Param #   \n",
      "=================================================================\n",
      "input_4 (InputLayer)         (None, 784)               0         \n",
      "_________________________________________________________________\n",
      "dense_17 (Dense)             (None, 128)               100480    \n",
      "_________________________________________________________________\n",
      "dense_18 (Dense)             (None, 64)                8256      \n",
      "_________________________________________________________________\n",
      "dense_19 (Dense)             (None, 10)                650       \n",
      "_________________________________________________________________\n",
      "dense_20 (Dense)             (None, 2)                 22        \n",
      "_________________________________________________________________\n",
      "dense_21 (Dense)             (None, 10)                30        \n",
      "_________________________________________________________________\n",
      "dense_22 (Dense)             (None, 64)                704       \n",
      "_________________________________________________________________\n",
      "dense_23 (Dense)             (None, 128)               8320      \n",
      "_________________________________________________________________\n",
      "dense_24 (Dense)             (None, 784)               101136    \n",
      "=================================================================\n",
      "Total params: 219,598.0\n",
      "Trainable params: 219,598.0\n",
      "Non-trainable params: 0.0\n",
      "_________________________________________________________________\n"
     ]
    },
    {
     "name": "stderr",
     "output_type": "stream",
     "text": [
      "/home/yvictor/miniconda2/envs/python3/lib/python3.6/site-packages/keras/legacy/interfaces.py:86: UserWarning: Update your `Model` call to the Keras 2 API: `Model(name=\"autoencoder\", inputs=Tensor(\"in..., outputs=Tensor(\"de...)`\n",
      "  '` call to the Keras 2 API: ' + signature)\n"
     ]
    }
   ],
   "source": [
    "encoding_dim = 2\n",
    "\n",
    "input_data = Input(shape=(784,))\n",
    "# encoder layers\n",
    "encoded = Dense(128, activation='relu')(input_data)\n",
    "encoded = Dense(64, activation='relu')(encoded)\n",
    "encoded = Dense(10, activation='relu')(encoded)\n",
    "encoder_output = Dense(encoding_dim)(encoded)\n",
    "\n",
    "# decoder layers\n",
    "decoded = Dense(10, activation='relu')(encoder_output)\n",
    "decoded = Dense(64, activation='relu')(decoded)\n",
    "decoded = Dense(128, activation='relu')(decoded)\n",
    "decoded = Dense(784, activation='sigmoid')(decoded)\n",
    "\n",
    "# construct the autoencoder model\n",
    "autoencoder = Model(input=input_data, output=decoded, name=\"autoencoder\")\n",
    "autoencoder.summary()"
   ]
  },
  {
   "cell_type": "code",
   "execution_count": 16,
   "metadata": {
    "collapsed": true
   },
   "outputs": [],
   "source": [
    "autoencoder.compile(optimizer='adam', loss='binary_crossentropy')"
   ]
  },
  {
   "cell_type": "code",
   "execution_count": null,
   "metadata": {
    "collapsed": true
   },
   "outputs": [],
   "source": []
  },
  {
   "cell_type": "code",
   "execution_count": 19,
   "metadata": {
    "collapsed": false
   },
   "outputs": [
    {
     "name": "stderr",
     "output_type": "stream",
     "text": [
      "/home/yvictor/miniconda2/envs/python3/lib/python3.6/site-packages/keras/legacy/interfaces.py:86: UserWarning: Update your `Model` call to the Keras 2 API: `Model(inputs=Tensor(\"in..., outputs=Tensor(\"de...)`\n",
      "  '` call to the Keras 2 API: ' + signature)\n"
     ]
    }
   ],
   "source": [
    "encoder = Model(input=input_data, output=encoder_output)"
   ]
  },
  {
   "cell_type": "code",
   "execution_count": 20,
   "metadata": {
    "collapsed": false
   },
   "outputs": [
    {
     "data": {
      "text/plain": [
       "array([[-0.66762799,  0.87247801],\n",
       "       [-0.19309904,  1.17522848],\n",
       "       [ 0.19175345,  0.93426901],\n",
       "       ..., \n",
       "       [ 0.12041408,  0.92034042],\n",
       "       [ 0.0447768 ,  0.96103251],\n",
       "       [-0.14763096,  1.25440109]], dtype=float32)"
      ]
     },
     "execution_count": 20,
     "metadata": {},
     "output_type": "execute_result"
    }
   ],
   "source": [
    "encoder.predict(x_test)"
   ]
  },
  {
   "cell_type": "code",
   "execution_count": 51,
   "metadata": {
    "collapsed": false,
    "slideshow": {
     "slide_type": "-"
    }
   },
   "outputs": [],
   "source": [
    "show_scatter_vol = 1000\n",
    "sc_x = LinearScale()\n",
    "sc_y = LinearScale()\n",
    "\n",
    "sc_c1 = ColorScale()\n",
    "scatter = Scatter(x=encoded_imgs[:show_scatter_vol, 0], y=encoded_imgs[:show_scatter_vol, 1], \n",
    "                  color=y_test[:show_scatter_vol],\n",
    "                  scales={'x': sc_x, 'y': sc_y, 'color': sc_c1}, \n",
    "                  stroke='black')\n",
    "\n",
    "ax_y = Axis(label='Dim 1', scale=sc_y, \n",
    "            orientation='vertical', side='left')\n",
    "\n",
    "ax_x = Axis(label='Dim 2', scale=sc_x, num_ticks=10, label_location='end')\n",
    "ax_c = ColorAxis(scale=sc_c1, tick_format='0.0f', label='Numbers', orientation='vertical', side='right')\n",
    "\n",
    "m_chart = dict(top=50, bottom=70, left=50, right=100)\n",
    "\n",
    "Figure(axes=[ax_x, ax_c, ax_y], marks=[scatter], fig_margin=m_chart, animation_duration=100,\n",
    "       title='AutoEncoder')"
   ]
  },
  {
   "cell_type": "code",
   "execution_count": 50,
   "metadata": {
    "collapsed": true
   },
   "outputs": [],
   "source": [
    "autoencoder.fit(x_train, x_train,\n",
    "                epochs=50,\n",
    "                batch_size=128,\n",
    "                shuffle=True,\n",
    "                validation_data=(x_test, x_test),\n",
    "                callbacks=[TensorBoard(log_dir='/tmp/autoencoder')])"
   ]
  },
  {
   "cell_type": "code",
   "execution_count": 48,
   "metadata": {
    "collapsed": false
   },
   "outputs": [],
   "source": []
  },
  {
   "cell_type": "code",
   "execution_count": null,
   "metadata": {
    "collapsed": true
   },
   "outputs": [],
   "source": []
  }
 ],
 "metadata": {
  "celltoolbar": "Slideshow",
  "kernelspec": {
   "display_name": "Python 3",
   "language": "python",
   "name": "python3"
  },
  "language_info": {
   "codemirror_mode": {
    "name": "ipython",
    "version": 3
   },
   "file_extension": ".py",
   "mimetype": "text/x-python",
   "name": "python",
   "nbconvert_exporter": "python",
   "pygments_lexer": "ipython3",
   "version": "3.6.0"
  },
  "widgets": {
   "state": {
    "7ca8dbe6a3dd400d9d96ab8935dfdaf9": {
     "views": [
      {
       "cell_index": 4
      }
     ]
    }
   },
   "version": "1.2.0"
  }
 },
 "nbformat": 4,
 "nbformat_minor": 2
}
